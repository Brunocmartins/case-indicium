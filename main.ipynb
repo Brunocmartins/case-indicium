{
 "cells": [
  {
   "cell_type": "code",
   "execution_count": 1,
   "metadata": {},
   "outputs": [],
   "source": [
    "import pandas as pd"
   ]
  },
  {
   "cell_type": "code",
   "execution_count": 2,
   "metadata": {},
   "outputs": [
    {
     "data": {
      "text/html": [
       "<div>\n",
       "<style scoped>\n",
       "    .dataframe tbody tr th:only-of-type {\n",
       "        vertical-align: middle;\n",
       "    }\n",
       "\n",
       "    .dataframe tbody tr th {\n",
       "        vertical-align: top;\n",
       "    }\n",
       "\n",
       "    .dataframe thead th {\n",
       "        text-align: right;\n",
       "    }\n",
       "</style>\n",
       "<table border=\"1\" class=\"dataframe\">\n",
       "  <thead>\n",
       "    <tr style=\"text-align: right;\">\n",
       "      <th></th>\n",
       "      <th>companiesId\\tcompaniesName\\tcompaniesDateCreated\\tcreatedBy\\tcompaniesEmails\\tcompaniesPhones\\temployeesId\\temployeesName\\tusersResponsible\\tsectorKey</th>\n",
       "    </tr>\n",
       "  </thead>\n",
       "  <tbody>\n",
       "    <tr>\n",
       "      <th>0</th>\n",
       "      <td>1\\tClass LLP\\t4/13/2019\\tjohndoe\\tmalesuada.ve...</td>\n",
       "    </tr>\n",
       "    <tr>\n",
       "      <th>1</th>\n",
       "      <td>2\\tVulputate Corporation\\t2/21/2019\\tjohndoe\\t...</td>\n",
       "    </tr>\n",
       "    <tr>\n",
       "      <th>2</th>\n",
       "      <td>3\\tSed Dui Fusce Consulting\\t6/29/2017\\tjohndo...</td>\n",
       "    </tr>\n",
       "    <tr>\n",
       "      <th>3</th>\n",
       "      <td>4\\tOrci Donec Nibh Incorporated\\t6/24/2017\\tjo...</td>\n",
       "    </tr>\n",
       "    <tr>\n",
       "      <th>4</th>\n",
       "      <td>5\\tSagittis Nullam Vitae Ltd\\t8/6/2018\\tjohndo...</td>\n",
       "    </tr>\n",
       "  </tbody>\n",
       "</table>\n",
       "</div>"
      ],
      "text/plain": [
       "  companiesId\\tcompaniesName\\tcompaniesDateCreated\\tcreatedBy\\tcompaniesEmails\\tcompaniesPhones\\temployeesId\\temployeesName\\tusersResponsible\\tsectorKey\n",
       "0  1\\tClass LLP\\t4/13/2019\\tjohndoe\\tmalesuada.ve...                                                                                                    \n",
       "1  2\\tVulputate Corporation\\t2/21/2019\\tjohndoe\\t...                                                                                                    \n",
       "2  3\\tSed Dui Fusce Consulting\\t6/29/2017\\tjohndo...                                                                                                    \n",
       "3  4\\tOrci Donec Nibh Incorporated\\t6/24/2017\\tjo...                                                                                                    \n",
       "4  5\\tSagittis Nullam Vitae Ltd\\t8/6/2018\\tjohndo...                                                                                                    "
      ]
     },
     "execution_count": 2,
     "metadata": {},
     "output_type": "execute_result"
    }
   ],
   "source": [
    "companies = pd.read_csv('data/companies.tsv')\n",
    "companies.head()"
   ]
  },
  {
   "cell_type": "code",
   "execution_count": null,
   "metadata": {},
   "outputs": [],
   "source": []
  }
 ],
 "metadata": {
  "kernelspec": {
   "display_name": "Python 3.6.9 64-bit ('venv': virtualenv)",
   "language": "python",
   "name": "python36964bitvenvvirtualenved7b5a55d9874f1eb995edafad8a5eaf"
  },
  "language_info": {
   "codemirror_mode": {
    "name": "ipython",
    "version": 3
   },
   "file_extension": ".py",
   "mimetype": "text/x-python",
   "name": "python",
   "nbconvert_exporter": "python",
   "pygments_lexer": "ipython3",
   "version": "3.6.9"
  }
 },
 "nbformat": 4,
 "nbformat_minor": 2
}
